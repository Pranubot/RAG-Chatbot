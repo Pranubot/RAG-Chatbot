{
  "metadata": {
    "kernelspec": {
      "name": "python",
      "display_name": "Python (Pyodide)",
      "language": "python"
    },
    "language_info": {
      "codemirror_mode": {
        "name": "python",
        "version": 3
      },
      "file_extension": ".py",
      "mimetype": "text/x-python",
      "name": "python",
      "nbconvert_exporter": "python",
      "pygments_lexer": "ipython3",
      "version": "3.8"
    }
  },
  "nbformat_minor": 5,
  "nbformat": 4,
  "cells": [
    {
      "id": "b7f546ef-2c39-49cf-8abc-7c6bcf2b9fff",
      "cell_type": "code",
      "source": "#This is code from the \"Build Long-Context AI Apps with Jamba\" from DeepLearning.AI that has been modified to read long legistlative documents and answer questions about the bill/act/law from the user\n#This code was run inside the imbedded jupyter notebook in the course",
      "metadata": {
        "trusted": true
      },
      "outputs": [],
      "execution_count": null
    },
    {
      "id": "afcdb90c-376e-4f3d-92b6-10995a676ba4",
      "cell_type": "code",
      "source": "import warnings\nwarnings.filterwarnings('ignore')",
      "metadata": {
        "trusted": true
      },
      "outputs": [],
      "execution_count": 1
    },
    {
      "id": "7a6bdf43-4080-487a-bf9f-1676336a3f84",
      "cell_type": "code",
      "source": "from ai21 import AI21Client\nfrom ai21.models.chat import ChatMessage\nimport uuid\nimport time",
      "metadata": {
        "trusted": true
      },
      "outputs": [
        {
          "ename": "<class 'ModuleNotFoundError'>",
          "evalue": "No module named 'ai21'",
          "traceback": [
            "\u001b[0;31m---------------------------------------------------------------------------\u001b[0m",
            "\u001b[0;31mModuleNotFoundError\u001b[0m                       Traceback (most recent call last)",
            "Cell \u001b[0;32mIn[2], line 1\u001b[0m\n\u001b[0;32m----> 1\u001b[0m \u001b[38;5;28;01mfrom\u001b[39;00m \u001b[38;5;21;01mai21\u001b[39;00m \u001b[38;5;28;01mimport\u001b[39;00m AI21Client\n\u001b[1;32m      2\u001b[0m \u001b[38;5;28;01mfrom\u001b[39;00m \u001b[38;5;21;01mai21\u001b[39;00m\u001b[38;5;21;01m.\u001b[39;00m\u001b[38;5;21;01mmodels\u001b[39;00m\u001b[38;5;21;01m.\u001b[39;00m\u001b[38;5;21;01mchat\u001b[39;00m \u001b[38;5;28;01mimport\u001b[39;00m ChatMessage\n\u001b[1;32m      3\u001b[0m \u001b[38;5;28;01mimport\u001b[39;00m \u001b[38;5;21;01muuid\u001b[39;00m\n",
            "\u001b[0;31mModuleNotFoundError\u001b[0m: No module named 'ai21'"
          ],
          "output_type": "error"
        }
      ],
      "execution_count": 2
    },
    {
      "id": "cf09ae9e-a4de-47a1-8cdd-54953a52e228",
      "cell_type": "code",
      "source": "from utils import get_ai21_api_key\nai21_api_key = get_ai21_api_key()\nclient = AI21Client(api_key=ai21_api_key)",
      "metadata": {
        "trusted": true
      },
      "outputs": [],
      "execution_count": null
    },
    {
      "id": "30930f0a-def0-4388-af75-a55f40f77dd1",
      "cell_type": "code",
      "source": "#RAG with AI21 Jamba Model in LangChain",
      "metadata": {
        "trusted": true
      },
      "outputs": [],
      "execution_count": null
    },
    {
      "id": "ac6f1f1e-6044-44ba-a491-170dfd44ad1f",
      "cell_type": "code",
      "source": "from langchain_ai21 import ChatAI21\nfrom langchain_community.document_loaders import TextLoader\nfrom langchain.text_splitter import RecursiveCharacterTextSplitter\nfrom langchain_huggingface.embeddings import HuggingFaceEmbeddings\nfrom langchain_chroma import Chroma\nfrom langchain_core.prompts import PromptTemplate\nfrom langchain_core.runnables import RunnablePassthrough\nfrom langchain_core.output_parsers import StrOutputParser",
      "metadata": {
        "trusted": true
      },
      "outputs": [],
      "execution_count": null
    },
    {
      "id": "cb96aadf-2962-4319-912f-856ebaa324f6",
      "cell_type": "code",
      "source": "llm = ChatAI21(model=\"jamba-1.5-large\",\n               max_tokens = 4096,\n               temperature = 0.4,\n               top_p = 1)",
      "metadata": {
        "trusted": true
      },
      "outputs": [],
      "execution_count": null
    },
    {
      "id": "2e7e4228-2eff-446e-9f8c-203d4b876e52",
      "cell_type": "code",
      "source": "loader = TextLoader(\"./inflation_reduction_act_2022.txt\")\ndoc = loader.load()",
      "metadata": {
        "trusted": true
      },
      "outputs": [],
      "execution_count": null
    },
    {
      "id": "fff5c8da-c303-4ddd-a6cd-4f0ca379a948",
      "cell_type": "code",
      "source": "text_splitter = RecursiveCharacterTextSplitter(\n    chunk_size=2000,\n    chunk_overlap=400)\ndocuments = text_splitter.split_documents(doc)",
      "metadata": {
        "trusted": true
      },
      "outputs": [],
      "execution_count": null
    },
    {
      "id": "13202ca1-14b6-4abb-ae6d-91dc0e5e4b70",
      "cell_type": "code",
      "source": "embeddings = HuggingFaceEmbeddings(model_name=\"sentence-transformers/all-mpnet-base-v2\")\nvectorstore = Chroma.from_documents(documents, embedding=embeddings)",
      "metadata": {
        "trusted": true
      },
      "outputs": [],
      "execution_count": null
    },
    {
      "id": "d8c73e35-a983-4eb3-a400-b36fa9588252",
      "cell_type": "code",
      "source": "prompt = PromptTemplate.from_template(\n    \"\"\"You are an expert in answering questions based on provided context.\n    Answer the question based on the provided context below to the best of your ability.\n    The response must be complete, coherent and concise.\n    If the answer is not contained in the context, please respond with \"answer not in the document\"\\n\n    Here is the context you should use to answer the question: \\n\n    <context>\n    {context}\n    </context> \\n\n    Based on the provided context, answer the following question: {question} \\n\n    Answer:\"\"\"\n)",
      "metadata": {
        "trusted": true
      },
      "outputs": [],
      "execution_count": null
    },
    {
      "id": "ce40f8e8-35e5-47fe-8a44-54ae5d0ce5fd",
      "cell_type": "code",
      "source": "retriever = vectorstore.as_retriever(\n    search_type=\"mmr\", \n    search_kwargs={\"k\": 10})",
      "metadata": {
        "trusted": true
      },
      "outputs": [],
      "execution_count": null
    },
    {
      "id": "f7f378c4-8984-400a-a405-72d4b3812f0c",
      "cell_type": "code",
      "source": "def format_docs(docs):\n    return \"\\n\\n\".join(doc.page_content for doc in docs)\n\n# RAG chain\nrag_chain = (\n    {\"context\": retriever | format_docs, \"question\": RunnablePassthrough()}\n    | prompt\n    | llm\n    | StrOutputParser()\n)",
      "metadata": {
        "trusted": true
      },
      "outputs": [],
      "execution_count": null
    },
    {
      "id": "1e0d2147-ab84-4143-8924-8cdafe8e2a1b",
      "cell_type": "code",
      "source": "q = \"Is this bill hiding anything that could be seen as controversial or favorable to one political party?\"\n\nresponse = rag_chain.invoke(q)\nprint(f\"Answer: {response}\")",
      "metadata": {
        "trusted": true
      },
      "outputs": [],
      "execution_count": null
    },
    {
      "id": "8aa9c8e3-548e-4e3d-8a48-4d57d04cb1e6",
      "cell_type": "code",
      "source": "docs = retriever.invoke(q)\ndocs",
      "metadata": {
        "trusted": true
      },
      "outputs": [],
      "execution_count": null
    },
    {
      "id": "7c2dd4aa-99cc-4698-818f-a4fa93e1e5e3",
      "cell_type": "code",
      "source": "questions = [\"Does this bill say anything about the prices of drugs and the cost of healthcare?\",\n             \"How will this bill aim to reduce inflation, and how much will it cost?\",\n             \"Is this bill proposing any changes to the federal budget?\",\n             \"Will this affect taxes on the rich, and if so, by how much?\n]\n\nfor q in questions:\n    response = rag_chain.invoke(q)\n    print(\"=\"*80)\n    print(f\"Question: {q}\")\n    print(f\"Answer: {response}\")",
      "metadata": {
        "trusted": true
      },
      "outputs": [],
      "execution_count": null
    },
    {
      "id": "46d21c3d-ac52-4c60-9582-583f38ab5676",
      "cell_type": "code",
      "source": "#Here is the output I got when running the program\n\n\"\"\"\n================================================================================\nQuestion: Does this bill say anything about the prices of drugs and the cost of healthcare?\nAnswer: Yes, this bill addresses the prices of drugs and the cost of healthcare in the following ways:\n\n- It provides for lower prices for certain high-priced single-source drugs.\n- It establishes a maximum fair price for certain drugs, which is subject to an annual percentage increase based on the consumer price index.\n- It includes provisions for drug price negotiation program prices to be included in the best price.\n- It expands eligibility for low-income subsidies under Medicare Part D.\n- It improves access to adult vaccines under Medicaid and CHIP.\n- It includes a continued delay of implementation of the prescription drug rebate rule.\n================================================================================\nQuestion: How will this bill aim to reduce inflation, and how much will it cost?\nAnswer: The bill seeks to reduce inflation by increasing direct spending to taxpayers and appropriating significant funds for various initiatives, including clean energy, \n        affordable housing, and conservation efforts. The total appropriations amount to $45,637,400,000, which will remain available until September 30, 2031.\n================================================================================\nQuestion: Is this bill proposing any changes to the federal budget?\nAnswer: Yes, the bill proposes several changes to the federal budget, including appropriations for various government agencies and programs, such as the Internal Revenue Service, \n        the Department of Housing and Urban Development, and the National Park Service. It also includes provisions for the appropriation of funds for specific purposes, such as conservation \n        technical assistance and the improvement of energy or water efficiency in affordable housing.\n================================================================================\nQuestion: Will this affect taxes on the rich, and if so, by how much?\nAnswer: Yes, the amendments will affect taxes on the rich. The increase in research credit against payroll tax for small businesses will not affect the rich. However, \n        the gross-up of direct spending will increase the portion of any payment made to a taxpayer pursuant to an election under section 6417 of the Internal Revenue Code of 1986, \n        or any amount treated as a payment which is made by the taxpayer under subsection (a) of such section, that is direct spending shall be increased by 6.0445 percent. This could affect the rich, \n        as they are more likely to have higher direct spending.\n\"\"\"",
      "metadata": {
        "trusted": true
      },
      "outputs": [
        {
          "execution_count": 3,
          "output_type": "execute_result",
          "data": {
            "text/plain": "'\\n================================================================================\\nQuestion: Does this bill say anything about the prices of drugs and the cost of healthcare?\\nAnswer: Yes, this bill addresses the prices of drugs and the cost of healthcare in the following ways:\\n\\n- It provides for lower prices for certain high-priced single-source drugs.\\n- It establishes a maximum fair price for certain drugs, which is subject to an annual percentage increase based on the consumer price index.\\n- It includes provisions for drug price negotiation program prices to be included in the best price.\\n- It expands eligibility for low-income subsidies under Medicare Part D.\\n- It improves access to adult vaccines under Medicaid and CHIP.\\n- It includes a continued delay of implementation of the prescription drug rebate rule.\\n================================================================================\\nQuestion: How will this bill aim to reduce inflation, and how much will it cost?\\nAnswer: The bill seeks to reduce inflation by increasing direct spending to taxpayers and appropriating significant funds for various initiatives, including clean energy, \\n        affordable housing, and conservation efforts. The total appropriations amount to $45,637,400,000, which will remain available until September 30, 2031.\\n================================================================================\\nQuestion: Is this bill proposing any changes to the federal budget?\\nAnswer: Yes, the bill proposes several changes to the federal budget, including appropriations for various government agencies and programs, such as the Internal Revenue Service, \\n        the Department of Housing and Urban Development, and the National Park Service. It also includes provisions for the appropriation of funds for specific purposes, such as conservation \\n        technical assistance and the improvement of energy or water efficiency in affordable housing.\\n================================================================================\\nQuestion: Will this affect taxes on the rich, and if so, by how much?\\nAnswer: Yes, the amendments will affect taxes on the rich. The increase in research credit against payroll tax for small businesses will not affect the rich. However, \\n        the gross-up of direct spending will increase the portion of any payment made to a taxpayer pursuant to an election under section 6417 of the Internal Revenue Code of 1986, \\n        or any amount treated as a payment which is made by the taxpayer under subsection (a) of such section, that is direct spending shall be increased by 6.0445 percent. This could affect the rich, \\n        as they are more likely to have higher direct spending.\\n'"
          },
          "metadata": {}
        }
      ],
      "execution_count": 3
    },
    {
      "id": "1d7c5d11-a613-4959-b5ef-ecc8f55d2987",
      "cell_type": "code",
      "source": "vectorstore.delete_collection()",
      "metadata": {
        "trusted": true
      },
      "outputs": [],
      "execution_count": null
    }
  ]
}